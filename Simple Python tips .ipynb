{
 "cells": [
  {
   "cell_type": "markdown",
   "id": "c58ec2f3",
   "metadata": {},
   "source": [
    "#####  Tips on performing some simple tasks to make your code-base Pythonic, Idiomatic, Faster, and more efficient. "
   ]
  },
  {
   "cell_type": "markdown",
   "id": "93d0dc60",
   "metadata": {},
   "source": [
    "``Looping over a list of integers e.g [1,2,3] to find the square of each list element``"
   ]
  },
  {
   "cell_type": "code",
   "execution_count": 1,
   "id": "cdbfd50e",
   "metadata": {},
   "outputs": [
    {
     "name": "stdout",
     "output_type": "stream",
     "text": [
      "0\n",
      "1\n",
      "4\n",
      "9\n"
     ]
    }
   ],
   "source": [
    "for i in range(4):\n",
    "    print(i**2)"
   ]
  },
  {
   "cell_type": "markdown",
   "id": "d861cc4d",
   "metadata": {},
   "source": [
    "``Looping over a collection``"
   ]
  },
  {
   "cell_type": "code",
   "execution_count": 2,
   "id": "2b7e0333",
   "metadata": {},
   "outputs": [
    {
     "name": "stdout",
     "output_type": "stream",
     "text": [
      "apple\n",
      "mango\n",
      "orange\n"
     ]
    }
   ],
   "source": [
    "fruits = ['apple', 'mango', 'orange']\n",
    "for fruit in fruits:\n",
    "    print(fruit)"
   ]
  },
  {
   "cell_type": "markdown",
   "id": "da6a53b1",
   "metadata": {},
   "source": [
    "``Looping backwards``"
   ]
  },
  {
   "cell_type": "code",
   "execution_count": 3,
   "id": "a1bb453f",
   "metadata": {},
   "outputs": [
    {
     "name": "stdout",
     "output_type": "stream",
     "text": [
      "Amanda\n",
      "Sally\n",
      "Bob\n"
     ]
    }
   ],
   "source": [
    "names = ['Bob', 'Sally', 'Amanda']\n",
    "for name in reversed(names):\n",
    "    print(name)\n",
    "    "
   ]
  },
  {
   "cell_type": "markdown",
   "id": "3f69a0f9",
   "metadata": {},
   "source": [
    "``Looping over a collection and indices``"
   ]
  },
  {
   "cell_type": "code",
   "execution_count": 4,
   "id": "867ae296",
   "metadata": {},
   "outputs": [
    {
     "name": "stdout",
     "output_type": "stream",
     "text": [
      "Bob : 0\n",
      "Sally : 1\n",
      "Amanda : 2\n"
     ]
    }
   ],
   "source": [
    "names = ['Bob', 'Sally', 'Amanda']\n",
    "for index, name in enumerate(names):\n",
    "    print(names[index],\":\", index)"
   ]
  },
  {
   "cell_type": "markdown",
   "id": "51dc37a4",
   "metadata": {},
   "source": [
    "``looping over two collections``\n"
   ]
  },
  {
   "cell_type": "code",
   "execution_count": 5,
   "id": "581523d4",
   "metadata": {},
   "outputs": [
    {
     "name": "stdout",
     "output_type": "stream",
     "text": [
      "Red - White\n",
      "Blue - Black\n",
      "Yellow - Pink\n"
     ]
    }
   ],
   "source": [
    "colors_1 = ['Red', 'Blue', 'Yellow']\n",
    "colors_2 = ['White','Black', 'Pink']\n",
    "for color_1, color_2 in zip(colors_1,colors_2):\n",
    "    print(color_1,'-',color_2)"
   ]
  },
  {
   "cell_type": "markdown",
   "id": "e6a42f1d",
   "metadata": {},
   "source": [
    "``Looping over a sorted collection``"
   ]
  },
  {
   "cell_type": "code",
   "execution_count": 6,
   "id": "0f5ed278",
   "metadata": {},
   "outputs": [
    {
     "name": "stdout",
     "output_type": "stream",
     "text": [
      "Algeria\n",
      "Argentina\n",
      "zimbabwe\n"
     ]
    }
   ],
   "source": [
    "countries = ['zimbabwe', 'Algeria', 'Argentina']\n",
    "for country in sorted(countries):\n",
    "    print(country)"
   ]
  },
  {
   "cell_type": "markdown",
   "id": "f5f4766a",
   "metadata": {},
   "source": [
    "``Looping over custom sorted list (sorted by length)``"
   ]
  },
  {
   "cell_type": "code",
   "execution_count": 7,
   "id": "046a54ec",
   "metadata": {},
   "outputs": [
    {
     "name": "stdout",
     "output_type": "stream",
     "text": [
      "Ben\n",
      "Sam\n",
      "Bobby\n",
      "Ibrahmin\n"
     ]
    }
   ],
   "source": [
    "names = ['Ben', 'Bobby', 'Ibrahmin', 'Sam']\n",
    "for name in sorted(names, key=len):\n",
    "    print(name)"
   ]
  },
  {
   "cell_type": "markdown",
   "id": "9de0a662",
   "metadata": {},
   "source": [
    "``Distinguisihing multiple exit points in loops``"
   ]
  },
  {
   "cell_type": "code",
   "execution_count": 8,
   "id": "ed87f076",
   "metadata": {},
   "outputs": [],
   "source": [
    "def locate_index(sequence, target):\n",
    "    for i,item in enumerate(sequence):\n",
    "        if item == target:\n",
    "            break\n",
    "    else:\n",
    "        return(print(\"target not in sequence\"))\n",
    "    return i"
   ]
  },
  {
   "cell_type": "markdown",
   "id": "726a37ce",
   "metadata": {},
   "source": [
    "``Looping over dictionary keys``"
   ]
  },
  {
   "cell_type": "code",
   "execution_count": 9,
   "id": "74afc2c0",
   "metadata": {},
   "outputs": [
    {
     "name": "stdout",
     "output_type": "stream",
     "text": [
      "Matt\n",
      "Sally\n"
     ]
    }
   ],
   "source": [
    "people_fruit = {'Matt':'Orange', 'Sally':'Pears'}\n",
    "\n",
    "for people in people_fruit:\n",
    "    print(people)"
   ]
  },
  {
   "cell_type": "markdown",
   "id": "007c2c77",
   "metadata": {},
   "source": [
    "``Looping over dictionary items``"
   ]
  },
  {
   "cell_type": "code",
   "execution_count": 10,
   "id": "eac6bbe5",
   "metadata": {},
   "outputs": [
    {
     "name": "stdout",
     "output_type": "stream",
     "text": [
      "Matt's favorite fruit is Orange\n",
      "Sally's favorite fruit is Pears\n"
     ]
    }
   ],
   "source": [
    "for people, fruit in people_fruit.items():\n",
    "    print(\"%s's favorite fruit is %s\"%(people,fruit))"
   ]
  },
  {
   "cell_type": "markdown",
   "id": "830d3be2",
   "metadata": {},
   "source": [
    "``Constructing a dictionary from two lists``"
   ]
  },
  {
   "cell_type": "code",
   "execution_count": 11,
   "id": "5e01edaf",
   "metadata": {},
   "outputs": [
    {
     "data": {
      "text/plain": [
       "{'Matt': 'Orange', 'Sally': 'Pears'}"
      ]
     },
     "execution_count": 11,
     "metadata": {},
     "output_type": "execute_result"
    }
   ],
   "source": [
    "people = ['Matt', 'Sally']\n",
    "fruits = ['Orange', 'Pears']\n",
    "people_fruit_2 = dict(zip(people,fruits))\n",
    "people_fruit_2"
   ]
  },
  {
   "cell_type": "markdown",
   "id": "016668dc",
   "metadata": {},
   "source": [
    "``Counting frequency of list items using dictionaries``"
   ]
  },
  {
   "cell_type": "code",
   "execution_count": 12,
   "id": "244812c7",
   "metadata": {},
   "outputs": [
    {
     "data": {
      "text/plain": [
       "{'Banana': 3, 'Pear': 2, 'Orange': 1, 'Mango': 1}"
      ]
     },
     "execution_count": 12,
     "metadata": {},
     "output_type": "execute_result"
    }
   ],
   "source": [
    "fruits = ['Banana', 'Pear', 'Orange','Banana', 'Banana', 'Mango', 'Pear']\n",
    "fruit_dict = {}\n",
    "for fruit in fruits:\n",
    "    fruit_dict[fruit] = fruit_dict.get(fruit,0) + 1\n",
    "fruit_dict"
   ]
  },
  {
   "cell_type": "code",
   "execution_count": 13,
   "id": "82b458ef",
   "metadata": {},
   "outputs": [
    {
     "data": {
      "text/plain": [
       "{'Banana': 3, 'Pear': 2, 'Orange': 1, 'Mango': 1}"
      ]
     },
     "execution_count": 13,
     "metadata": {},
     "output_type": "execute_result"
    }
   ],
   "source": [
    "from collections import defaultdict\n",
    "fruit_dict_2 = defaultdict(int)\n",
    "for fruit in fruits:\n",
    "    fruit_dict_2[fruit] +=1\n",
    "dict(fruit_dict_2)"
   ]
  },
  {
   "cell_type": "markdown",
   "id": "773dcc2c",
   "metadata": {},
   "source": [
    "``Grouping list items with dictionaries``"
   ]
  },
  {
   "cell_type": "code",
   "execution_count": 14,
   "id": "b9fc4c7c",
   "metadata": {},
   "outputs": [
    {
     "data": {
      "text/plain": [
       "defaultdict(list,\n",
       "            {6: ['Banana', 'Orange', 'Banana', 'Banana'],\n",
       "             4: ['Pear', 'Pear'],\n",
       "             5: ['Mango']})"
      ]
     },
     "execution_count": 14,
     "metadata": {},
     "output_type": "execute_result"
    }
   ],
   "source": [
    "dict_of_fruits = defaultdict(list)\n",
    "for fruit in fruits:\n",
    "    key = len(fruit)\n",
    "    dict_of_fruits[key].append(fruit)\n",
    "dict_of_fruits"
   ]
  },
  {
   "cell_type": "markdown",
   "id": "92b36fb2",
   "metadata": {},
   "source": [
    "``Unpacking Sequences``"
   ]
  },
  {
   "cell_type": "code",
   "execution_count": 15,
   "id": "65d16253",
   "metadata": {},
   "outputs": [],
   "source": [
    "a = 'Bola','James',20,'United Kingdom'\n",
    "fname, lname, age, loacation = a"
   ]
  },
  {
   "cell_type": "markdown",
   "id": "a36458fb",
   "metadata": {},
   "source": [
    "``Updating multiple state variables``"
   ]
  },
  {
   "cell_type": "code",
   "execution_count": 16,
   "id": "df90db5a",
   "metadata": {},
   "outputs": [],
   "source": [
    "def fibn(n):\n",
    "    x, y = 0, 1\n",
    "    for i in range(n):\n",
    "        x, y = y, x+y"
   ]
  },
  {
   "cell_type": "markdown",
   "id": "3c2acbd4",
   "metadata": {},
   "source": [
    "``Concatenating strings``"
   ]
  },
  {
   "cell_type": "code",
   "execution_count": 17,
   "id": "8c70c22f",
   "metadata": {},
   "outputs": [
    {
     "name": "stdout",
     "output_type": "stream",
     "text": [
      "Banana, Pear, Orange, Banana, Banana, Mango, Pear\n"
     ]
    }
   ],
   "source": [
    "print(', '.join(fruits))"
   ]
  },
  {
   "cell_type": "markdown",
   "id": "9c6744bb",
   "metadata": {},
   "source": [
    "Reference - [Python Doc](https://docs.python.org/3/), [Raymond Hettinger](https://www.youtube.com/watch?v=anrOzOapJ2E), [w3schools](w3schools.com)"
   ]
  }
 ],
 "metadata": {
  "kernelspec": {
   "display_name": "Python 3 (ipykernel)",
   "language": "python",
   "name": "python3"
  },
  "language_info": {
   "codemirror_mode": {
    "name": "ipython",
    "version": 3
   },
   "file_extension": ".py",
   "mimetype": "text/x-python",
   "name": "python",
   "nbconvert_exporter": "python",
   "pygments_lexer": "ipython3",
   "version": "3.9.7"
  }
 },
 "nbformat": 4,
 "nbformat_minor": 5
}
