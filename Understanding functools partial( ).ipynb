{
 "cells": [
  {
   "cell_type": "code",
   "execution_count": 1,
   "id": "285828bc",
   "metadata": {},
   "outputs": [],
   "source": [
    "from functools import partial\n",
    "def my_func(a, b, c):\n",
    "    print(a, b, c)"
   ]
  },
  {
   "cell_type": "code",
   "execution_count": 2,
   "id": "41834dfe",
   "metadata": {},
   "outputs": [
    {
     "name": "stdout",
     "output_type": "stream",
     "text": [
      "1 2 3\n"
     ]
    }
   ],
   "source": [
    "my_func(1, 2, 3)"
   ]
  },
  {
   "cell_type": "code",
   "execution_count": 3,
   "id": "e1e2b271",
   "metadata": {},
   "outputs": [],
   "source": [
    "def f(b, c):\n",
    "    return my_func(2, b, c)"
   ]
  },
  {
   "cell_type": "code",
   "execution_count": 4,
   "id": "df588233",
   "metadata": {},
   "outputs": [
    {
     "name": "stdout",
     "output_type": "stream",
     "text": [
      "2 2 3\n"
     ]
    }
   ],
   "source": [
    "f(2, 3)"
   ]
  },
  {
   "cell_type": "code",
   "execution_count": 5,
   "id": "1a643818",
   "metadata": {},
   "outputs": [],
   "source": [
    "g = lambda b,c:my_func(4, b, c)"
   ]
  },
  {
   "cell_type": "code",
   "execution_count": 6,
   "id": "7a26d1d8",
   "metadata": {},
   "outputs": [
    {
     "name": "stdout",
     "output_type": "stream",
     "text": [
      "4 2 3\n"
     ]
    }
   ],
   "source": [
    "g(2, 3)"
   ]
  },
  {
   "cell_type": "code",
   "execution_count": 7,
   "id": "2bacebd5",
   "metadata": {},
   "outputs": [],
   "source": [
    "h = partial(my_func, 1, 2)"
   ]
  },
  {
   "cell_type": "code",
   "execution_count": 8,
   "id": "d477ab0c",
   "metadata": {},
   "outputs": [
    {
     "name": "stdout",
     "output_type": "stream",
     "text": [
      "1 2 3\n"
     ]
    }
   ],
   "source": [
    "h(3)"
   ]
  },
  {
   "cell_type": "code",
   "execution_count": 9,
   "id": "ae2449ec",
   "metadata": {},
   "outputs": [],
   "source": [
    "def my_func(a, b, *args, k1, k2, **kwargs):\n",
    "    print(a, b, args, k1, k2, kwargs)"
   ]
  },
  {
   "cell_type": "code",
   "execution_count": 10,
   "id": "51df2ae6",
   "metadata": {},
   "outputs": [],
   "source": [
    "def f(b, *args, k2, **kwargs):\n",
    "    return my_func(10, b, *args, k1='a', k2=k2, **kwargs)"
   ]
  },
  {
   "cell_type": "code",
   "execution_count": 11,
   "id": "f61cca85",
   "metadata": {},
   "outputs": [],
   "source": [
    "g = partial(my_func, 10, k1='a')"
   ]
  },
  {
   "cell_type": "code",
   "execution_count": 12,
   "id": "d5c27c68",
   "metadata": {},
   "outputs": [
    {
     "name": "stdout",
     "output_type": "stream",
     "text": [
      "10 2 () a boy {}\n"
     ]
    }
   ],
   "source": [
    "g(2, k2='boy')"
   ]
  },
  {
   "cell_type": "code",
   "execution_count": 13,
   "id": "2e26f56c",
   "metadata": {},
   "outputs": [],
   "source": [
    "def power(base, exponent):\n",
    "    return base ** exponent"
   ]
  },
  {
   "cell_type": "code",
   "execution_count": 14,
   "id": "54502bb5",
   "metadata": {},
   "outputs": [],
   "source": [
    "square = partial(power, exponent=2)"
   ]
  },
  {
   "cell_type": "code",
   "execution_count": 15,
   "id": "8a8b924e",
   "metadata": {},
   "outputs": [],
   "source": [
    "cube = partial(power, exponent=3)"
   ]
  },
  {
   "cell_type": "code",
   "execution_count": 16,
   "id": "0c71aaef",
   "metadata": {},
   "outputs": [
    {
     "data": {
      "text/plain": [
       "125"
      ]
     },
     "execution_count": 16,
     "metadata": {},
     "output_type": "execute_result"
    }
   ],
   "source": [
    "cube(5)"
   ]
  }
 ],
 "metadata": {
  "kernelspec": {
   "display_name": "Python 3 (ipykernel)",
   "language": "python",
   "name": "python3"
  },
  "language_info": {
   "codemirror_mode": {
    "name": "ipython",
    "version": 3
   },
   "file_extension": ".py",
   "mimetype": "text/x-python",
   "name": "python",
   "nbconvert_exporter": "python",
   "pygments_lexer": "ipython3",
   "version": "3.9.7"
  }
 },
 "nbformat": 4,
 "nbformat_minor": 5
}
